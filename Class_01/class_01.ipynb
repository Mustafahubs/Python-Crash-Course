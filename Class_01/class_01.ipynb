{
 "cells": [
  {
   "cell_type": "markdown",
   "metadata": {},
   "source": [
    "# System scripting"
   ]
  },
  {
   "cell_type": "code",
   "execution_count": null,
   "metadata": {},
   "outputs": [],
   "source": [
    "'''Read a text file'''\n",
    "with open('a_text_file.txt','r') as file:\n",
    "    print(file.read())\n",
    "\n",
    "# '''Check List of files and folders'''\n",
    "# import os\n",
    "# print(os.listdir())"
   ]
  },
  {
   "cell_type": "code",
   "execution_count": null,
   "metadata": {},
   "outputs": [],
   "source": []
  },
  {
   "cell_type": "markdown",
   "metadata": {},
   "source": [
    "# Mathematical Solution in Python"
   ]
  },
  {
   "cell_type": "markdown",
   "metadata": {},
   "source": [
    "![math_example](https://i.imgur.com/utDOG01.png)"
   ]
  },
  {
   "cell_type": "code",
   "execution_count": null,
   "metadata": {},
   "outputs": [],
   "source": [
    "import numpy as np\n",
    "\n",
    "# Coefficient matrix\n",
    "coeff_matrix = np.array([[2, -1],\n",
    "                        [3, 2]])\n",
    "# Constants vector\n",
    "constants_vector = np.array([5, 11])\n",
    "\n",
    "# Solve the system of linear equations\n",
    "solution = np.linalg.solve(coeff_matrix, constants_vector)\n",
    "\n",
    "# Display the results\n",
    "print(\"Solution:\")\n",
    "print(f\"x = {solution[0]}\")\n",
    "print(f\"y = {solution[1]}\")\n"
   ]
  },
  {
   "cell_type": "markdown",
   "metadata": {},
   "source": [
    "# Python example for Web servers and databases"
   ]
  },
  {
   "cell_type": "markdown",
   "metadata": {},
   "source": [
    "![web_server_db_example](https://www.researchgate.net/profile/David-Moratal/publication/216554589/figure/fig1/AS:305735847170052@1449904514842/Client-Server-architecture-As-Figure-1-shows-databases-are-located-in-a-server-which.png)"
   ]
  },
  {
   "cell_type": "markdown",
   "metadata": {},
   "source": [
    "# Prototyping to code in python"
   ]
  },
  {
   "cell_type": "markdown",
   "metadata": {},
   "source": [
    "![prototyping_example](https://i.imgur.com/CPzyI8T.png)"
   ]
  },
  {
   "cell_type": "markdown",
   "metadata": {},
   "source": [
    "# Python Syntax vs others"
   ]
  },
  {
   "cell_type": "markdown",
   "metadata": {},
   "source": [
    "![Syntax_example](https://www.megatrend.com/wp-content/uploads/2022/03/Slika1_usporedba_sintakse-1.png)"
   ]
  },
  {
   "cell_type": "code",
   "execution_count": null,
   "metadata": {},
   "outputs": [],
   "source": []
  }
 ],
 "metadata": {
  "kernelspec": {
   "display_name": "Python 3",
   "language": "python",
   "name": "python3"
  },
  "language_info": {
   "codemirror_mode": {
    "name": "ipython",
    "version": 3
   },
   "file_extension": ".py",
   "mimetype": "text/x-python",
   "name": "python",
   "nbconvert_exporter": "python",
   "pygments_lexer": "ipython3",
   "version": "3.12.1"
  }
 },
 "nbformat": 4,
 "nbformat_minor": 2
}
